{
 "cells": [
  {
   "cell_type": "markdown",
   "metadata": {},
   "source": [
    "A Chatbot is an application that interacts with users like a human. Chatbots are typically used to resolve the most common queries that a business receives from its customers daily. In this file, we’ll create a Chatbot using Python."
   ]
  },
  {
   "cell_type": "markdown",
   "metadata": {},
   "source": [
    "### What is a Chatbot?\n",
    "\n",
    "A Chatbot is an AI application that mimics human conversations. It is widely used by companies to solve the most common problems they receive from customers daily. For example, if we want to know the CRN of our bank account, a chatbot will assist us by asking for our bank details, then it will give us our CRN. But if we want to know something that is not that common, like asking how we can turn our account into a joint account, chances are the authorized employee will assist us.\n",
    "\n",
    "So while creating a chatbot for any company we should know what that company deals in and what problems their customers get daily. That is why so many companies use chatbot to solve the most common problems of their customers. \n",
    "\n",
    "Here, we will be using the NLTK library in Python which is one of the best Python libraries for any task of natural language processing:"
   ]
  },
  {
   "cell_type": "code",
   "execution_count": 1,
   "metadata": {},
   "outputs": [],
   "source": [
    "from nltk.chat.util import Chat, reflections"
   ]
  },
  {
   "cell_type": "markdown",
   "metadata": {},
   "source": [
    "Now we will be creating a list of queries and their responses for the chatbot:"
   ]
  },
  {
   "cell_type": "code",
   "execution_count": 2,
   "metadata": {},
   "outputs": [],
   "source": [
    "#Pairs is a list of patterns and responses.\n",
    "pairs = [\n",
    "    [r\"(.*)my name is (.*)\",[\"Hello %2, How are you today ?\",]],\n",
    "    [r\"(.*)help(.*) \",[\"I can help you \",]],\n",
    "    [r\"(.*) your name ?\",[\"My name is thecleverprogrammer, but you can just call me robot and I'm a chatbot .\",]],\n",
    "    [r\"how are you (.*) ?\",[\"I'm doing very well\", \"i am great !\"]],\n",
    "    [r\"sorry (.*)\",[\"Its alright\",\"Its OK, never mind that\",]],\n",
    "    [r\"i'm (.*) (good|well|okay|ok)\",[\"Nice to hear that\",\"Alright, great !\",]],\n",
    "    [r\"(hi|hey|hello|hola|holla)(.*)\",[\"Hello\", \"Hey there\",]],\n",
    "    [r\"what (.*) want ?\",[\"Make me an offer I can't refuse\",]],\n",
    "    [r\"(.*)created(.*)\",[\"Waqas created me using Python's NLTK library \",\"top secret ;)\",]],\n",
    "    [r\"(.*) (location|city) ?\",['Karachi, Pakistan',]],\n",
    "    [r\"(.*)raining in (.*)\",[\"No rain in the past 4 days here in %2\",\"In %2 there is a 50% chance of rain\",]],\n",
    "    [r\"how (.*) health (.*)\",[\"Health is very important, but I am a computer, so I don't need to worry about my health \",]],\n",
    "    [r\"(.*)(sports|game|sport)(.*)\",[\"I'm a very big fan of Cricket\",]],\n",
    "    [r\"who (.*) (Cricketer|Batsman)?\",[\"Babar Azam\"]],\n",
    "    [r\"quit\",[\"Bye for now. See you soon :) \",\"It was nice talking to you. See you soon :)\"]],\n",
    "    [r\"(.*)\",['That is nice to hear']],\n",
    "]"
   ]
  },
  {
   "cell_type": "markdown",
   "metadata": {},
   "source": [
    "Let’s run this program and interact with the chatbot by using some of the queries related to the queries mentioned in the above list:"
   ]
  },
  {
   "cell_type": "code",
   "execution_count": 4,
   "metadata": {},
   "outputs": [
    {
     "name": "stdout",
     "output_type": "stream",
     "text": [
      "Hi, This is ICMA Pakistan\n",
      "Please type lowercase English language to start a conversation. Type quit to leave \n",
      ">how are you\n",
      "That is nice to hear\n",
      ">quit\n",
      "It was nice talking to you. See you soon :)\n"
     ]
    }
   ],
   "source": [
    "#default message at the start of chat\n",
    "print(\"Hi, This is ICMA Pakistan\\nPlease type lowercase English language to start a conversation. Type quit to leave \")\n",
    "#Create Chat Bot\n",
    "chat = Chat(pairs, reflections)\n",
    "#Start conversation\n",
    "chat.converse()"
   ]
  },
  {
   "cell_type": "markdown",
   "metadata": {},
   "source": [
    "So the chatbot performs well. We can create this chatbot more advanced by using some more Python packages of NLP or by adding more queries to it."
   ]
  },
  {
   "cell_type": "markdown",
   "metadata": {},
   "source": [
    "### Summary\n",
    "\n",
    "Chatbots are very useful applications for every company especially if a company is providing any type of service. It helps an organization by solving the most common queries of the customers."
   ]
  },
  {
   "cell_type": "code",
   "execution_count": null,
   "metadata": {},
   "outputs": [],
   "source": []
  }
 ],
 "metadata": {
  "kernelspec": {
   "display_name": "Python 3",
   "language": "python",
   "name": "python3"
  },
  "language_info": {
   "codemirror_mode": {
    "name": "ipython",
    "version": 3
   },
   "file_extension": ".py",
   "mimetype": "text/x-python",
   "name": "python",
   "nbconvert_exporter": "python",
   "pygments_lexer": "ipython3",
   "version": "3.7.6"
  }
 },
 "nbformat": 4,
 "nbformat_minor": 4
}
