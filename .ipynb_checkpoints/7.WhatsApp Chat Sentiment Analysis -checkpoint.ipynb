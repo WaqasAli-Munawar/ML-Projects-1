{
 "cells": [
  {
   "cell_type": "markdown",
   "metadata": {},
   "source": [
    "WhatsApp is a great source of data to analyze many patterns and relationships between two or more people chatting personally or even in groups.\n",
    "\n",
    "To analyze the sentiments of a WhatsApp chat, we need to collect data from WhatsApp. Most of us must be using this messaging app, so to collect data about your chat, simply follow the steps mentioned below:\n",
    "\n",
    "### For iPhone:\n",
    "1. Open chat with a person or a group\n",
    "2. Just tap on the profile of the person or the group\n",
    "3. We will see an option to export chat down below\n",
    "\n",
    "### For Android:\n",
    "1. Open chat with a person or a group \n",
    "2. Click on the three dots above \n",
    "3. Click on more\n",
    "4. Click on the export chat\n",
    "\n",
    "We will see an option to attach media while exporting chat. For simplicity, it is best not to attach media. Finally, enter our email and we will find our WhatsApp chat in our inbox.\n",
    "\n",
    "### WhatsApp Chat Sentiment Analysis using Python\n",
    "\n",
    "Now let’s start with WhatsApp chat sentiment analysis. We’ll start this task by defining some helper functions because the data we get from WhatsApp is not a dataset that is ready to be used for any kind of data science task. So, to prepare our data for the sentiment analysis task, just define all the functions as defined below:"
   ]
  },
  {
   "cell_type": "code",
   "execution_count": 24,
   "metadata": {},
   "outputs": [],
   "source": [
    "import re\n",
    "import pandas as pd\n",
    "import numpy as np\n",
    "import emoji\n",
    "from collections import Counter\n",
    "import matplotlib.pyplot as plt\n",
    "from PIL import Image\n",
    "from wordcloud import WordCloud, STOPWORDS, ImageColorGenerator"
   ]
  },
  {
   "cell_type": "code",
   "execution_count": 25,
   "metadata": {},
   "outputs": [],
   "source": [
    "# Extract Time\n",
    "def date_time(s):\n",
    "    pattern = '^([0-9]+)(\\/)([0-9]+)(\\/)([0-9]+), ([0-9]+):([0-9]+)[ ]?(AM|PM|am|pm)? -'\n",
    "    result = re.match(pattern, s)\n",
    "    if result:\n",
    "        return True\n",
    "    return False"
   ]
  },
  {
   "cell_type": "code",
   "execution_count": 26,
   "metadata": {},
   "outputs": [],
   "source": [
    "# Find Authors or Contacts\n",
    "def find_author(s):\n",
    "    s = s.split(\":\")\n",
    "    if len(s)==2:\n",
    "        return True\n",
    "    else:\n",
    "        return False"
   ]
  },
  {
   "cell_type": "code",
   "execution_count": 27,
   "metadata": {},
   "outputs": [],
   "source": [
    "# Finding Messages\n",
    "def getDatapoint(line):\n",
    "    splitline = line.split(' - ')\n",
    "    dateTime = splitline[0]\n",
    "    date, time = dateTime.split(\", \")\n",
    "    message = \" \".join(splitline[1:])\n",
    "    if find_author(message):\n",
    "        splitmessage = message.split(\": \")\n",
    "        author = splitmessage[0]\n",
    "        message = \" \".join(splitmessage[1:])\n",
    "    else:\n",
    "        author= None\n",
    "    return date, time, author, message"
   ]
  },
  {
   "cell_type": "markdown",
   "metadata": {},
   "source": [
    "It doesn’t matter if we are using a group chat dataset or our conversation with one person. All the functions defined above will prepare our data for sentiment analysis as well as for any data science task. Now here is how we can prepare the data we collected from WhatsApp by using the above functions:"
   ]
  },
  {
   "cell_type": "code",
   "execution_count": 28,
   "metadata": {},
   "outputs": [],
   "source": [
    "data = []\n",
    "conversation = 'WhatsApp Chat with CMA Think Tank.txt'\n",
    "with open(conversation, encoding=\"utf-8\") as fp:\n",
    "    fp.readline()\n",
    "    messageBuffer = []\n",
    "    date, time, author = None, None, None\n",
    "    while True:\n",
    "        line = fp.readline()\n",
    "        if not line:\n",
    "            break\n",
    "        line = line.strip()\n",
    "        if date_time(line):\n",
    "            if len(messageBuffer) > 0:\n",
    "                data.append([date, time, author, ' '.join(messageBuffer)])\n",
    "            messageBuffer.clear()\n",
    "            date, time, author, message = getDatapoint(line)\n",
    "            messageBuffer.append(message)\n",
    "        else:\n",
    "            messageBuffer.append(line)"
   ]
  },
  {
   "cell_type": "code",
   "execution_count": 29,
   "metadata": {},
   "outputs": [
    {
     "data": {
      "text/plain": [
       "[['23/09/2021',\n",
       "  '10:46 pm',\n",
       "  'Chairman KBC Azeem',\n",
       "  'Dear Asad, InshaAllah will discuss in the morning.'],\n",
       " ['23/09/2021',\n",
       "  '10:49 pm',\n",
       "  'Chairman KBC Azeem',\n",
       "  'Yes, it is an apparent case of IoS. Nevertheless, as I wrote, a case may be made on technical ground to reflect it as gift and at the same time treating it as non-taxable. Numerous case laws..!'],\n",
       " ['23/09/2021', '10:50 pm', 'Chairman KBC Azeem', \"That's right.\"],\n",
       " ['24/09/2021', '12:32 am', '+92 332 1319773', 'No'],\n",
       " ['24/09/2021',\n",
       "  '2:25 am',\n",
       "  '+92 300 3475887',\n",
       "  'Is Advance tax on function and gathering u/s 236 D, adjustable? If yes then where we can record it as no option is available in Adjustable tax tab.'],\n",
       " ['24/09/2021', '6:01 am', '+92 300 2358250', '👍'],\n",
       " ['24/09/2021',\n",
       "  '11:18 am',\n",
       "  '+92 300 3592724',\n",
       "  \"Yes case laws exist such such atir's on cash gifts as well as indian cases that even companies can give gift to its employees but couldnt find case law on 39 (3) ntn condition\"],\n",
       " ['24/09/2021',\n",
       "  '11:21 am',\n",
       "  '+92 333 2180919',\n",
       "  'پڑوسی ممالک کو افغان طالبان کو ڈکٹیشن کے بجائے معاونت کرنی چاہئے- عام معافی کا مطلب یہ نہیں کہ حکومت میں بھی حصہ دیا جائے- اسی طرح یہ طالبان کی مرضی ہے وہ جسے چاہیں حکومت میں حصہ دیں- اور حصہ نہ دینے کا مطلب مخالفت نہیں- تاہم تمام اسٹیک ہولڈرز کی حکومت ایک مستحکم حکومت ہو گی- الیکٹرانک ووٹنگ مشین تمام ممالک نے مسترد کر دی ہے موجودہ مہنگائ کا خاتمہ اسلامی معاشی نظام میں ممکن ہے- یہ سب کچھ اور بہت کچھ خصوصی گفتگو امیر جماعت اسلامی سراج الحق سے باٹم لائن دو چودھری اکمل']]"
      ]
     },
     "execution_count": 29,
     "metadata": {},
     "output_type": "execute_result"
    }
   ],
   "source": [
    "data"
   ]
  },
  {
   "cell_type": "markdown",
   "metadata": {},
   "source": [
    "Now here is how we can analyze the sentiments of WhatsApp chat using Python:"
   ]
  },
  {
   "cell_type": "code",
   "execution_count": 30,
   "metadata": {},
   "outputs": [],
   "source": [
    "df = pd.DataFrame(data, columns=[\"Date\", 'Time', 'Author', 'Message'])\n",
    "df['Date'] = pd.to_datetime(df['Date'])\n",
    "\n",
    "data = df.dropna()"
   ]
  },
  {
   "cell_type": "code",
   "execution_count": 31,
   "metadata": {},
   "outputs": [
    {
     "data": {
      "text/html": [
       "<div>\n",
       "<style scoped>\n",
       "    .dataframe tbody tr th:only-of-type {\n",
       "        vertical-align: middle;\n",
       "    }\n",
       "\n",
       "    .dataframe tbody tr th {\n",
       "        vertical-align: top;\n",
       "    }\n",
       "\n",
       "    .dataframe thead th {\n",
       "        text-align: right;\n",
       "    }\n",
       "</style>\n",
       "<table border=\"1\" class=\"dataframe\">\n",
       "  <thead>\n",
       "    <tr style=\"text-align: right;\">\n",
       "      <th></th>\n",
       "      <th>Date</th>\n",
       "      <th>Time</th>\n",
       "      <th>Author</th>\n",
       "      <th>Message</th>\n",
       "    </tr>\n",
       "  </thead>\n",
       "  <tbody>\n",
       "    <tr>\n",
       "      <th>0</th>\n",
       "      <td>2021-09-23</td>\n",
       "      <td>10:46 pm</td>\n",
       "      <td>Chairman KBC Azeem</td>\n",
       "      <td>Dear Asad, InshaAllah will discuss in the morn...</td>\n",
       "    </tr>\n",
       "    <tr>\n",
       "      <th>1</th>\n",
       "      <td>2021-09-23</td>\n",
       "      <td>10:49 pm</td>\n",
       "      <td>Chairman KBC Azeem</td>\n",
       "      <td>Yes, it is an apparent case of IoS. Neverthele...</td>\n",
       "    </tr>\n",
       "    <tr>\n",
       "      <th>2</th>\n",
       "      <td>2021-09-23</td>\n",
       "      <td>10:50 pm</td>\n",
       "      <td>Chairman KBC Azeem</td>\n",
       "      <td>That's right.</td>\n",
       "    </tr>\n",
       "    <tr>\n",
       "      <th>3</th>\n",
       "      <td>2021-09-24</td>\n",
       "      <td>12:32 am</td>\n",
       "      <td>+92 332 1319773</td>\n",
       "      <td>No</td>\n",
       "    </tr>\n",
       "    <tr>\n",
       "      <th>4</th>\n",
       "      <td>2021-09-24</td>\n",
       "      <td>2:25 am</td>\n",
       "      <td>+92 300 3475887</td>\n",
       "      <td>Is Advance tax on function and gathering u/s 2...</td>\n",
       "    </tr>\n",
       "    <tr>\n",
       "      <th>5</th>\n",
       "      <td>2021-09-24</td>\n",
       "      <td>6:01 am</td>\n",
       "      <td>+92 300 2358250</td>\n",
       "      <td>👍</td>\n",
       "    </tr>\n",
       "    <tr>\n",
       "      <th>6</th>\n",
       "      <td>2021-09-24</td>\n",
       "      <td>11:18 am</td>\n",
       "      <td>+92 300 3592724</td>\n",
       "      <td>Yes case laws exist such such atir's on cash g...</td>\n",
       "    </tr>\n",
       "    <tr>\n",
       "      <th>7</th>\n",
       "      <td>2021-09-24</td>\n",
       "      <td>11:21 am</td>\n",
       "      <td>+92 333 2180919</td>\n",
       "      <td>پڑوسی ممالک کو افغان طالبان کو ڈکٹیشن کے بجائے...</td>\n",
       "    </tr>\n",
       "  </tbody>\n",
       "</table>\n",
       "</div>"
      ],
      "text/plain": [
       "        Date      Time              Author  \\\n",
       "0 2021-09-23  10:46 pm  Chairman KBC Azeem   \n",
       "1 2021-09-23  10:49 pm  Chairman KBC Azeem   \n",
       "2 2021-09-23  10:50 pm  Chairman KBC Azeem   \n",
       "3 2021-09-24  12:32 am     +92 332 1319773   \n",
       "4 2021-09-24   2:25 am     +92 300 3475887   \n",
       "5 2021-09-24   6:01 am     +92 300 2358250   \n",
       "6 2021-09-24  11:18 am     +92 300 3592724   \n",
       "7 2021-09-24  11:21 am     +92 333 2180919   \n",
       "\n",
       "                                             Message  \n",
       "0  Dear Asad, InshaAllah will discuss in the morn...  \n",
       "1  Yes, it is an apparent case of IoS. Neverthele...  \n",
       "2                                      That's right.  \n",
       "3                                                 No  \n",
       "4  Is Advance tax on function and gathering u/s 2...  \n",
       "5                                                  👍  \n",
       "6  Yes case laws exist such such atir's on cash g...  \n",
       "7  پڑوسی ممالک کو افغان طالبان کو ڈکٹیشن کے بجائے...  "
      ]
     },
     "execution_count": 31,
     "metadata": {},
     "output_type": "execute_result"
    }
   ],
   "source": [
    "data"
   ]
  },
  {
   "cell_type": "code",
   "execution_count": 32,
   "metadata": {},
   "outputs": [
    {
     "name": "stderr",
     "output_type": "stream",
     "text": [
      "[nltk_data] Downloading package vader_lexicon to\n",
      "[nltk_data]     C:\\Users\\Waqas.Ali\\AppData\\Roaming\\nltk_data...\n",
      "[nltk_data]   Package vader_lexicon is already up-to-date!\n"
     ]
    }
   ],
   "source": [
    "import nltk\n",
    "nltk.download('vader_lexicon')\n",
    "from nltk.sentiment.vader import SentimentIntensityAnalyzer\n",
    "sentiments = SentimentIntensityAnalyzer()"
   ]
  },
  {
   "cell_type": "code",
   "execution_count": 33,
   "metadata": {},
   "outputs": [],
   "source": [
    "data[\"Positive\"] = [sentiments.polarity_scores(i)[\"pos\"] for i in data[\"Message\"]]\n",
    "data[\"Negative\"] = [sentiments.polarity_scores(i)[\"neg\"] for i in data[\"Message\"]]\n",
    "data[\"Neutral\"] = [sentiments.polarity_scores(i)[\"neu\"] for i in data[\"Message\"]]"
   ]
  },
  {
   "cell_type": "code",
   "execution_count": 34,
   "metadata": {},
   "outputs": [
    {
     "data": {
      "text/html": [
       "<div>\n",
       "<style scoped>\n",
       "    .dataframe tbody tr th:only-of-type {\n",
       "        vertical-align: middle;\n",
       "    }\n",
       "\n",
       "    .dataframe tbody tr th {\n",
       "        vertical-align: top;\n",
       "    }\n",
       "\n",
       "    .dataframe thead th {\n",
       "        text-align: right;\n",
       "    }\n",
       "</style>\n",
       "<table border=\"1\" class=\"dataframe\">\n",
       "  <thead>\n",
       "    <tr style=\"text-align: right;\">\n",
       "      <th></th>\n",
       "      <th>Date</th>\n",
       "      <th>Time</th>\n",
       "      <th>Author</th>\n",
       "      <th>Message</th>\n",
       "      <th>Positive</th>\n",
       "      <th>Negative</th>\n",
       "      <th>Neutral</th>\n",
       "    </tr>\n",
       "  </thead>\n",
       "  <tbody>\n",
       "    <tr>\n",
       "      <th>0</th>\n",
       "      <td>2021-09-23</td>\n",
       "      <td>10:46 pm</td>\n",
       "      <td>Chairman KBC Azeem</td>\n",
       "      <td>Dear Asad, InshaAllah will discuss in the morn...</td>\n",
       "      <td>0.271</td>\n",
       "      <td>0.000</td>\n",
       "      <td>0.729</td>\n",
       "    </tr>\n",
       "    <tr>\n",
       "      <th>1</th>\n",
       "      <td>2021-09-23</td>\n",
       "      <td>10:49 pm</td>\n",
       "      <td>Chairman KBC Azeem</td>\n",
       "      <td>Yes, it is an apparent case of IoS. Neverthele...</td>\n",
       "      <td>0.151</td>\n",
       "      <td>0.000</td>\n",
       "      <td>0.849</td>\n",
       "    </tr>\n",
       "    <tr>\n",
       "      <th>2</th>\n",
       "      <td>2021-09-23</td>\n",
       "      <td>10:50 pm</td>\n",
       "      <td>Chairman KBC Azeem</td>\n",
       "      <td>That's right.</td>\n",
       "      <td>0.000</td>\n",
       "      <td>0.000</td>\n",
       "      <td>1.000</td>\n",
       "    </tr>\n",
       "    <tr>\n",
       "      <th>3</th>\n",
       "      <td>2021-09-24</td>\n",
       "      <td>12:32 am</td>\n",
       "      <td>+92 332 1319773</td>\n",
       "      <td>No</td>\n",
       "      <td>0.000</td>\n",
       "      <td>1.000</td>\n",
       "      <td>0.000</td>\n",
       "    </tr>\n",
       "    <tr>\n",
       "      <th>4</th>\n",
       "      <td>2021-09-24</td>\n",
       "      <td>2:25 am</td>\n",
       "      <td>+92 300 3475887</td>\n",
       "      <td>Is Advance tax on function and gathering u/s 2...</td>\n",
       "      <td>0.087</td>\n",
       "      <td>0.071</td>\n",
       "      <td>0.841</td>\n",
       "    </tr>\n",
       "  </tbody>\n",
       "</table>\n",
       "</div>"
      ],
      "text/plain": [
       "        Date      Time              Author  \\\n",
       "0 2021-09-23  10:46 pm  Chairman KBC Azeem   \n",
       "1 2021-09-23  10:49 pm  Chairman KBC Azeem   \n",
       "2 2021-09-23  10:50 pm  Chairman KBC Azeem   \n",
       "3 2021-09-24  12:32 am     +92 332 1319773   \n",
       "4 2021-09-24   2:25 am     +92 300 3475887   \n",
       "\n",
       "                                             Message  Positive  Negative  \\\n",
       "0  Dear Asad, InshaAllah will discuss in the morn...     0.271     0.000   \n",
       "1  Yes, it is an apparent case of IoS. Neverthele...     0.151     0.000   \n",
       "2                                      That's right.     0.000     0.000   \n",
       "3                                                 No     0.000     1.000   \n",
       "4  Is Advance tax on function and gathering u/s 2...     0.087     0.071   \n",
       "\n",
       "   Neutral  \n",
       "0    0.729  \n",
       "1    0.849  \n",
       "2    1.000  \n",
       "3    0.000  \n",
       "4    0.841  "
      ]
     },
     "execution_count": 34,
     "metadata": {},
     "output_type": "execute_result"
    }
   ],
   "source": [
    "data.head()"
   ]
  },
  {
   "cell_type": "code",
   "execution_count": 35,
   "metadata": {},
   "outputs": [],
   "source": [
    "x = sum(data[\"Positive\"])\n",
    "y = sum(data[\"Negative\"])\n",
    "z = sum(data[\"Neutral\"])"
   ]
  },
  {
   "cell_type": "code",
   "execution_count": 36,
   "metadata": {},
   "outputs": [],
   "source": [
    "def sentiment_score(a, b, c):\n",
    "    if (a>b) and (a>c):\n",
    "        print(\"Positive 😊 \")\n",
    "    elif (b>a) and (b>c):\n",
    "        print(\"Negative 😠 \")\n",
    "    else:\n",
    "        print(\"Neutral 🙂 \")"
   ]
  },
  {
   "cell_type": "code",
   "execution_count": 37,
   "metadata": {},
   "outputs": [
    {
     "name": "stdout",
     "output_type": "stream",
     "text": [
      "Neutral 🙂 \n"
     ]
    }
   ],
   "source": [
    "sentiment_score(x, y, z)"
   ]
  },
  {
   "cell_type": "markdown",
   "metadata": {},
   "source": [
    "So, the data we used indicates that most of the messages are neutral. Which means it’s neither positive nor negative."
   ]
  },
  {
   "cell_type": "code",
   "execution_count": null,
   "metadata": {},
   "outputs": [],
   "source": []
  }
 ],
 "metadata": {
  "kernelspec": {
   "display_name": "Python 3",
   "language": "python",
   "name": "python3"
  },
  "language_info": {
   "codemirror_mode": {
    "name": "ipython",
    "version": 3
   },
   "file_extension": ".py",
   "mimetype": "text/x-python",
   "name": "python",
   "nbconvert_exporter": "python",
   "pygments_lexer": "ipython3",
   "version": "3.7.6"
  }
 },
 "nbformat": 4,
 "nbformat_minor": 4
}
