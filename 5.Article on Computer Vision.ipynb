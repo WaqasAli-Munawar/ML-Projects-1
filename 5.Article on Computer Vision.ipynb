{
 "cells": [
  {
   "cell_type": "markdown",
   "metadata": {},
   "source": [
    "**Computer vision** is a subfield of artificial intelligence that is used to train a computer to see, process, and identify what is inside an image or video, just like humans. In this file, we will go through a complete roadmap on how to learn computer vision.\n",
    "\n",
    "### What is Computer Vision?\n",
    "In Machine Learning, we train our system to learn from data to classify or predict labels. Much like machine learning, in computer vision, we train a system to process an image to understand what’s inside an image or video, just like humans. The ability of a computer system, web application, software application, or any type of programmed system to understand an image or video like humans is known as computer vision.\n",
    "\n",
    "**Computer Vision** is not new, as it is already used in a wide variety of applications to solve business problems such as:\n",
    "\n",
    "1. Optical Character Recognition (OCR)\n",
    "2. Machine Inspection\n",
    "3. Object Recognition\n",
    "4. 3D Model Building\n",
    "5. Medical Imaging\n",
    "6. Automotive Safety\n",
    "7. Motion Capture\n",
    "8. Fingerprint Recognition\n",
    "9. Face Detection\n",
    "10. Visual Authentication and many more."
   ]
  },
  {
   "cell_type": "markdown",
   "metadata": {},
   "source": [
    "Just like machine learning, computer vision also has many topics. First, we will start with the topics we need to learn for computer vision and then we will move to the tools and frameworks we need to learn to implement the concepts of computer vision practically. So below are the topics of computer vision that we need to learn step by step:\n",
    "\n",
    "1. **Mathematics**\n",
    "    * Probability\n",
    "    * Statistics\n",
    "    * Linear Algebra\n",
    "    * Calculus\n",
    "    \n",
    "    \n",
    "2. **Fundamentals of Computer Science**\n",
    "    * Programming Language (Python/Java/C++/JavaScript)\n",
    "    * Machine Learning Algorithms\n",
    "    * Neural Networks\n",
    "    \n",
    "    \n",
    "3. **Data Science**\n",
    "    * Data Collection\n",
    "    * Data Preparation\n",
    "    * Data Augmentation\n",
    "    * Data Annotation\n",
    "    \n",
    "    \n",
    "4. **Image and Video Processing**\n",
    "    * Image Classification\n",
    "    * Object Detection\n",
    "    * Object Tracking\n",
    "    * Image Captioning\n",
    "    * Image Segmentation\n",
    "    * Action Recognition\n",
    "    * Video Processing\n",
    "    * Video Captioning"
   ]
  },
  {
   "cell_type": "markdown",
   "metadata": {},
   "source": [
    "So these were the topics we need to learn to understand the concepts of computer vision. Now, to implement the computer vision concepts mentioned above, we must first learn a programming language. The most popular programming languages for computer vision are Python, C++, and JavaScript. we use Python because it is easy to learn and the support of libraries makes it more user friendly.\n",
    "\n",
    "### Python Libraries and Frameworks\n",
    "Assuming that we are also using the Python programming language to implement the concepts of computer vision, below are the Python libraries and frameworks that we need to learn for computer vision:\n",
    "\n",
    "* NumPy\n",
    "* Pandas\n",
    "* skimage\n",
    "* Pillow\n",
    "* OpenCV\n",
    "* TensorFlow\n",
    "* PyTorch\n",
    "\n",
    "This was the complete roadmap that we need for learning computer vision using the Python programming language. "
   ]
  },
  {
   "cell_type": "code",
   "execution_count": null,
   "metadata": {},
   "outputs": [],
   "source": []
  }
 ],
 "metadata": {
  "kernelspec": {
   "display_name": "Python 3",
   "language": "python",
   "name": "python3"
  },
  "language_info": {
   "codemirror_mode": {
    "name": "ipython",
    "version": 3
   },
   "file_extension": ".py",
   "mimetype": "text/x-python",
   "name": "python",
   "nbconvert_exporter": "python",
   "pygments_lexer": "ipython3",
   "version": "3.7.6"
  }
 },
 "nbformat": 4,
 "nbformat_minor": 4
}
